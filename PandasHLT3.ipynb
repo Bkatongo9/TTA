{
 "cells": [
  {
   "cell_type": "code",
   "execution_count": 46,
   "metadata": {},
   "outputs": [],
   "source": [
    "import pandas as pd"
   ]
  },
  {
   "cell_type": "code",
   "execution_count": 47,
   "metadata": {},
   "outputs": [],
   "source": [
    "path=\"C:\\\\Users\\\\Bkato\\\\OneDrive\\\\Documents\\TTA\\\\HLT Pandas.xlsx\""
   ]
  },
  {
   "cell_type": "code",
   "execution_count": 48,
   "metadata": {},
   "outputs": [],
   "source": [
    "df=pd.read_excel(path)"
   ]
  },
  {
   "cell_type": "code",
   "execution_count": 49,
   "metadata": {},
   "outputs": [],
   "source": [
    "#!pip install openpyxl"
   ]
  },
  {
   "cell_type": "code",
   "execution_count": 50,
   "metadata": {},
   "outputs": [
    {
     "data": {
      "text/html": [
       "<div>\n",
       "<style scoped>\n",
       "    .dataframe tbody tr th:only-of-type {\n",
       "        vertical-align: middle;\n",
       "    }\n",
       "\n",
       "    .dataframe tbody tr th {\n",
       "        vertical-align: top;\n",
       "    }\n",
       "\n",
       "    .dataframe thead th {\n",
       "        text-align: right;\n",
       "    }\n",
       "</style>\n",
       "<table border=\"1\" class=\"dataframe\">\n",
       "  <thead>\n",
       "    <tr style=\"text-align: right;\">\n",
       "      <th></th>\n",
       "      <th>Destination</th>\n",
       "      <th>Score</th>\n",
       "      <th>Average Hotel star</th>\n",
       "      <th>All Inclusive</th>\n",
       "      <th>Most Visited</th>\n",
       "    </tr>\n",
       "  </thead>\n",
       "  <tbody>\n",
       "    <tr>\n",
       "      <th>0</th>\n",
       "      <td>Italy - Venice</td>\n",
       "      <td>10</td>\n",
       "      <td>4 Star</td>\n",
       "      <td>950</td>\n",
       "      <td>Venice</td>\n",
       "    </tr>\n",
       "    <tr>\n",
       "      <th>1</th>\n",
       "      <td>Kenya - Nairobi</td>\n",
       "      <td>7</td>\n",
       "      <td>3 Star</td>\n",
       "      <td>820</td>\n",
       "      <td>Nairobi</td>\n",
       "    </tr>\n",
       "    <tr>\n",
       "      <th>2</th>\n",
       "      <td>Mexico - Cancun</td>\n",
       "      <td>5</td>\n",
       "      <td>3 Star</td>\n",
       "      <td>400</td>\n",
       "      <td>Cancun</td>\n",
       "    </tr>\n",
       "    <tr>\n",
       "      <th>3</th>\n",
       "      <td>France - Paris</td>\n",
       "      <td>9</td>\n",
       "      <td>5 Star</td>\n",
       "      <td>330</td>\n",
       "      <td>Paris</td>\n",
       "    </tr>\n",
       "    <tr>\n",
       "      <th>4</th>\n",
       "      <td>India - Goa</td>\n",
       "      <td>5</td>\n",
       "      <td>3 Star</td>\n",
       "      <td>570</td>\n",
       "      <td>Goa</td>\n",
       "    </tr>\n",
       "    <tr>\n",
       "      <th>5</th>\n",
       "      <td>Spain - Ibiza</td>\n",
       "      <td>6</td>\n",
       "      <td>4 Star</td>\n",
       "      <td>760</td>\n",
       "      <td>Ibiza</td>\n",
       "    </tr>\n",
       "    <tr>\n",
       "      <th>6</th>\n",
       "      <td>Australia - Melbourne</td>\n",
       "      <td>8</td>\n",
       "      <td>5 Star</td>\n",
       "      <td>480</td>\n",
       "      <td>Melbourne</td>\n",
       "    </tr>\n",
       "    <tr>\n",
       "      <th>7</th>\n",
       "      <td>Thailand - Bangkok</td>\n",
       "      <td>4</td>\n",
       "      <td>3 Star</td>\n",
       "      <td>700</td>\n",
       "      <td>Bangkok</td>\n",
       "    </tr>\n",
       "    <tr>\n",
       "      <th>8</th>\n",
       "      <td>Zambia - Livingstone</td>\n",
       "      <td>7</td>\n",
       "      <td>3 Star</td>\n",
       "      <td>50</td>\n",
       "      <td>Livingstone</td>\n",
       "    </tr>\n",
       "    <tr>\n",
       "      <th>9</th>\n",
       "      <td>South Africa - Cape Town</td>\n",
       "      <td>8</td>\n",
       "      <td>5 Star</td>\n",
       "      <td>700</td>\n",
       "      <td>Cape Town</td>\n",
       "    </tr>\n",
       "    <tr>\n",
       "      <th>10</th>\n",
       "      <td>Morocco - Marrakesh</td>\n",
       "      <td>10</td>\n",
       "      <td>4 Star</td>\n",
       "      <td>1250</td>\n",
       "      <td>Marrakesh</td>\n",
       "    </tr>\n",
       "    <tr>\n",
       "      <th>11</th>\n",
       "      <td>UAE - Dubai</td>\n",
       "      <td>9</td>\n",
       "      <td>5 Star</td>\n",
       "      <td>1400</td>\n",
       "      <td>Dubai</td>\n",
       "    </tr>\n",
       "    <tr>\n",
       "      <th>12</th>\n",
       "      <td>Brazil - Rio</td>\n",
       "      <td>7</td>\n",
       "      <td>3 Star</td>\n",
       "      <td>450</td>\n",
       "      <td>Rio</td>\n",
       "    </tr>\n",
       "    <tr>\n",
       "      <th>13</th>\n",
       "      <td>Portugal - Algarve</td>\n",
       "      <td>5</td>\n",
       "      <td>3 Star</td>\n",
       "      <td>600</td>\n",
       "      <td>Algarve</td>\n",
       "    </tr>\n",
       "    <tr>\n",
       "      <th>14</th>\n",
       "      <td>USA - Florida</td>\n",
       "      <td>8</td>\n",
       "      <td>5 Star</td>\n",
       "      <td>1500</td>\n",
       "      <td>Florida</td>\n",
       "    </tr>\n",
       "  </tbody>\n",
       "</table>\n",
       "</div>"
      ],
      "text/plain": [
       "                 Destination  Score Average Hotel star  All Inclusive  \\\n",
       "0             Italy - Venice     10             4 Star            950   \n",
       "1            Kenya - Nairobi      7             3 Star            820   \n",
       "2            Mexico - Cancun      5             3 Star            400   \n",
       "3             France - Paris      9             5 Star            330   \n",
       "4                India - Goa      5             3 Star            570   \n",
       "5              Spain - Ibiza      6             4 Star            760   \n",
       "6      Australia - Melbourne      8             5 Star            480   \n",
       "7         Thailand - Bangkok      4             3 Star            700   \n",
       "8       Zambia - Livingstone      7             3 Star             50   \n",
       "9   South Africa - Cape Town      8             5 Star            700   \n",
       "10       Morocco - Marrakesh     10             4 Star           1250   \n",
       "11               UAE - Dubai      9             5 Star           1400   \n",
       "12              Brazil - Rio      7             3 Star            450   \n",
       "13        Portugal - Algarve      5             3 Star            600   \n",
       "14             USA - Florida      8             5 Star           1500   \n",
       "\n",
       "   Most Visited  \n",
       "0        Venice  \n",
       "1       Nairobi  \n",
       "2        Cancun  \n",
       "3         Paris  \n",
       "4           Goa  \n",
       "5         Ibiza  \n",
       "6     Melbourne  \n",
       "7       Bangkok  \n",
       "8   Livingstone  \n",
       "9     Cape Town  \n",
       "10    Marrakesh  \n",
       "11        Dubai  \n",
       "12          Rio  \n",
       "13      Algarve  \n",
       "14      Florida  "
      ]
     },
     "execution_count": 50,
     "metadata": {},
     "output_type": "execute_result"
    }
   ],
   "source": [
    "df"
   ]
  },
  {
   "cell_type": "code",
   "execution_count": 51,
   "metadata": {},
   "outputs": [
    {
     "data": {
      "text/html": [
       "<div>\n",
       "<style scoped>\n",
       "    .dataframe tbody tr th:only-of-type {\n",
       "        vertical-align: middle;\n",
       "    }\n",
       "\n",
       "    .dataframe tbody tr th {\n",
       "        vertical-align: top;\n",
       "    }\n",
       "\n",
       "    .dataframe thead th {\n",
       "        text-align: right;\n",
       "    }\n",
       "</style>\n",
       "<table border=\"1\" class=\"dataframe\">\n",
       "  <thead>\n",
       "    <tr style=\"text-align: right;\">\n",
       "      <th></th>\n",
       "      <th>Destination</th>\n",
       "      <th>Score</th>\n",
       "      <th>Average Hotel Star</th>\n",
       "      <th>All Inclusive</th>\n",
       "      <th>Most Visited</th>\n",
       "    </tr>\n",
       "  </thead>\n",
       "  <tbody>\n",
       "    <tr>\n",
       "      <th>0</th>\n",
       "      <td>USA</td>\n",
       "      <td>8</td>\n",
       "      <td>5 Star</td>\n",
       "      <td>1500</td>\n",
       "      <td>Florida</td>\n",
       "    </tr>\n",
       "    <tr>\n",
       "      <th>1</th>\n",
       "      <td>Australia</td>\n",
       "      <td>8</td>\n",
       "      <td>5 Star</td>\n",
       "      <td>480</td>\n",
       "      <td>Melbourne</td>\n",
       "    </tr>\n",
       "    <tr>\n",
       "      <th>2</th>\n",
       "      <td>Brazil</td>\n",
       "      <td>7</td>\n",
       "      <td>3 Star</td>\n",
       "      <td>450</td>\n",
       "      <td>Rio</td>\n",
       "    </tr>\n",
       "    <tr>\n",
       "      <th>3</th>\n",
       "      <td>France</td>\n",
       "      <td>9</td>\n",
       "      <td>5 Star</td>\n",
       "      <td>330</td>\n",
       "      <td>Paris</td>\n",
       "    </tr>\n",
       "    <tr>\n",
       "      <th>4</th>\n",
       "      <td>India</td>\n",
       "      <td>5</td>\n",
       "      <td>3 Star</td>\n",
       "      <td>570</td>\n",
       "      <td>Goa</td>\n",
       "    </tr>\n",
       "    <tr>\n",
       "      <th>5</th>\n",
       "      <td>Italy</td>\n",
       "      <td>10</td>\n",
       "      <td>4 Star</td>\n",
       "      <td>950</td>\n",
       "      <td>Venice</td>\n",
       "    </tr>\n",
       "    <tr>\n",
       "      <th>6</th>\n",
       "      <td>Kenya</td>\n",
       "      <td>7</td>\n",
       "      <td>3 Star</td>\n",
       "      <td>820</td>\n",
       "      <td>Nairobi</td>\n",
       "    </tr>\n",
       "    <tr>\n",
       "      <th>7</th>\n",
       "      <td>Mexico</td>\n",
       "      <td>5</td>\n",
       "      <td>3 Star</td>\n",
       "      <td>400</td>\n",
       "      <td>Cancun</td>\n",
       "    </tr>\n",
       "    <tr>\n",
       "      <th>8</th>\n",
       "      <td>Morocco</td>\n",
       "      <td>10</td>\n",
       "      <td>4 Star</td>\n",
       "      <td>1250</td>\n",
       "      <td>Marrakesh</td>\n",
       "    </tr>\n",
       "    <tr>\n",
       "      <th>9</th>\n",
       "      <td>Portugal</td>\n",
       "      <td>5</td>\n",
       "      <td>3 Star</td>\n",
       "      <td>600</td>\n",
       "      <td>Algarve</td>\n",
       "    </tr>\n",
       "    <tr>\n",
       "      <th>10</th>\n",
       "      <td>South Africa</td>\n",
       "      <td>8</td>\n",
       "      <td>5 Star</td>\n",
       "      <td>700</td>\n",
       "      <td>Cape Town</td>\n",
       "    </tr>\n",
       "    <tr>\n",
       "      <th>11</th>\n",
       "      <td>Spain</td>\n",
       "      <td>6</td>\n",
       "      <td>4 Star</td>\n",
       "      <td>760</td>\n",
       "      <td>Ibiza</td>\n",
       "    </tr>\n",
       "    <tr>\n",
       "      <th>12</th>\n",
       "      <td>Thailand</td>\n",
       "      <td>4</td>\n",
       "      <td>3 Star</td>\n",
       "      <td>700</td>\n",
       "      <td>Bangkok</td>\n",
       "    </tr>\n",
       "    <tr>\n",
       "      <th>13</th>\n",
       "      <td>UAE</td>\n",
       "      <td>9</td>\n",
       "      <td>5 Star</td>\n",
       "      <td>1400</td>\n",
       "      <td>Dubai</td>\n",
       "    </tr>\n",
       "    <tr>\n",
       "      <th>14</th>\n",
       "      <td>Zambia</td>\n",
       "      <td>7</td>\n",
       "      <td>3 Star</td>\n",
       "      <td>50</td>\n",
       "      <td>Livingstone</td>\n",
       "    </tr>\n",
       "  </tbody>\n",
       "</table>\n",
       "</div>"
      ],
      "text/plain": [
       "      Destination  Score Average Hotel Star  All Inclusive Most Visited\n",
       "0             USA      8             5 Star           1500      Florida\n",
       "1      Australia       8             5 Star            480    Melbourne\n",
       "2         Brazil       7             3 Star            450          Rio\n",
       "3         France       9             5 Star            330        Paris\n",
       "4           India      5             3 Star            570          Goa\n",
       "5          Italy      10             4 Star            950       Venice\n",
       "6          Kenya       7             3 Star            820      Nairobi\n",
       "7         Mexico       5             3 Star            400       Cancun\n",
       "8         Morocco     10             4 Star           1250    Marrakesh\n",
       "9       Portugal       5             3 Star            600      Algarve\n",
       "10  South Africa       8             5 Star            700    Cape Town\n",
       "11         Spain       6             4 Star            760        Ibiza\n",
       "12      Thailand       4             3 Star            700      Bangkok\n",
       "13           UAE       9             5 Star           1400        Dubai\n",
       "14        Zambia       7             3 Star             50  Livingstone"
      ]
     },
     "execution_count": 51,
     "metadata": {},
     "output_type": "execute_result"
    }
   ],
   "source": [
    "path2=\"C:\\\\Users\\\\Bkato\\\\OneDrive\\\\Documents\\\\TTA\\\\TestingHolidayD.csv\"\n",
    "df2=pd.read_csv(path2)\n",
    "df2"
   ]
  },
  {
   "cell_type": "code",
   "execution_count": 52,
   "metadata": {},
   "outputs": [
    {
     "name": "stdout",
     "output_type": "stream",
     "text": [
      "number of rows  15  number of columns  5\n"
     ]
    }
   ],
   "source": [
    "#refer to 1\n",
    "rows,columns=df2.shape\n",
    "print(\"number of rows \",rows, \" number of columns \",columns)"
   ]
  },
  {
   "cell_type": "code",
   "execution_count": 53,
   "metadata": {},
   "outputs": [
    {
     "data": {
      "text/html": [
       "<div>\n",
       "<style scoped>\n",
       "    .dataframe tbody tr th:only-of-type {\n",
       "        vertical-align: middle;\n",
       "    }\n",
       "\n",
       "    .dataframe tbody tr th {\n",
       "        vertical-align: top;\n",
       "    }\n",
       "\n",
       "    .dataframe thead th {\n",
       "        text-align: right;\n",
       "    }\n",
       "</style>\n",
       "<table border=\"1\" class=\"dataframe\">\n",
       "  <thead>\n",
       "    <tr style=\"text-align: right;\">\n",
       "      <th></th>\n",
       "      <th>Destination</th>\n",
       "      <th>Score</th>\n",
       "      <th>Average Hotel Star</th>\n",
       "      <th>All Inclusive</th>\n",
       "      <th>Most Visited</th>\n",
       "    </tr>\n",
       "  </thead>\n",
       "  <tbody>\n",
       "    <tr>\n",
       "      <th>3</th>\n",
       "      <td>France</td>\n",
       "      <td>9</td>\n",
       "      <td>5 Star</td>\n",
       "      <td>330</td>\n",
       "      <td>Paris</td>\n",
       "    </tr>\n",
       "    <tr>\n",
       "      <th>4</th>\n",
       "      <td>India</td>\n",
       "      <td>5</td>\n",
       "      <td>3 Star</td>\n",
       "      <td>570</td>\n",
       "      <td>Goa</td>\n",
       "    </tr>\n",
       "    <tr>\n",
       "      <th>5</th>\n",
       "      <td>Italy</td>\n",
       "      <td>10</td>\n",
       "      <td>4 Star</td>\n",
       "      <td>950</td>\n",
       "      <td>Venice</td>\n",
       "    </tr>\n",
       "    <tr>\n",
       "      <th>6</th>\n",
       "      <td>Kenya</td>\n",
       "      <td>7</td>\n",
       "      <td>3 Star</td>\n",
       "      <td>820</td>\n",
       "      <td>Nairobi</td>\n",
       "    </tr>\n",
       "    <tr>\n",
       "      <th>7</th>\n",
       "      <td>Mexico</td>\n",
       "      <td>5</td>\n",
       "      <td>3 Star</td>\n",
       "      <td>400</td>\n",
       "      <td>Cancun</td>\n",
       "    </tr>\n",
       "    <tr>\n",
       "      <th>8</th>\n",
       "      <td>Morocco</td>\n",
       "      <td>10</td>\n",
       "      <td>4 Star</td>\n",
       "      <td>1250</td>\n",
       "      <td>Marrakesh</td>\n",
       "    </tr>\n",
       "  </tbody>\n",
       "</table>\n",
       "</div>"
      ],
      "text/plain": [
       "  Destination  Score Average Hotel Star  All Inclusive Most Visited\n",
       "3     France       9             5 Star            330        Paris\n",
       "4       India      5             3 Star            570          Goa\n",
       "5      Italy      10             4 Star            950       Venice\n",
       "6      Kenya       7             3 Star            820      Nairobi\n",
       "7     Mexico       5             3 Star            400       Cancun\n",
       "8     Morocco     10             4 Star           1250    Marrakesh"
      ]
     },
     "execution_count": 53,
     "metadata": {},
     "output_type": "execute_result"
    }
   ],
   "source": [
    "#refer to 2\n",
    "df2.loc[3:8]"
   ]
  },
  {
   "cell_type": "code",
   "execution_count": 54,
   "metadata": {},
   "outputs": [
    {
     "name": "stdout",
     "output_type": "stream",
     "text": [
      "mean value of All Inclusive =  730.6666666666666\n"
     ]
    }
   ],
   "source": [
    "#ref to 3\n",
    "print(\"mean value of All Inclusive = \",df2[\"All Inclusive\"].mean())"
   ]
  },
  {
   "cell_type": "code",
   "execution_count": 55,
   "metadata": {},
   "outputs": [
    {
     "name": "stdout",
     "output_type": "stream",
     "text": [
      "minimum value of All Inclusive =  50\n"
     ]
    }
   ],
   "source": [
    "#ref to 4\n",
    "print(\"minimum value of All Inclusive = \",df2[\"All Inclusive\"].min())"
   ]
  },
  {
   "cell_type": "code",
   "execution_count": 56,
   "metadata": {},
   "outputs": [
    {
     "name": "stdout",
     "output_type": "stream",
     "text": [
      "maximum value of All Inclusive =  1500\n"
     ]
    }
   ],
   "source": [
    "#ref to 5\n",
    "print(\"maximum value of All Inclusive = \",df2[\"All Inclusive\"].max())"
   ]
  },
  {
   "cell_type": "code",
   "execution_count": 57,
   "metadata": {},
   "outputs": [
    {
     "name": "stdout",
     "output_type": "stream",
     "text": [
      "All Inclusive more than 600 =        Destination  Score Average Hotel Star  All Inclusive Most Visited\n",
      "0             USA      8             5 Star           1500      Florida\n",
      "5          Italy      10             4 Star            950       Venice\n",
      "6          Kenya       7             3 Star            820      Nairobi\n",
      "8         Morocco     10             4 Star           1250    Marrakesh\n",
      "10  South Africa       8             5 Star            700    Cape Town\n",
      "11         Spain       6             4 Star            760        Ibiza\n",
      "12      Thailand       4             3 Star            700      Bangkok\n",
      "13           UAE       9             5 Star           1400        Dubai\n"
     ]
    }
   ],
   "source": [
    "#Q6 - find the destinations that have more than 600 all-inclusive hotels\n",
    "#ref to 6\n",
    "index=df2[\"All Inclusive\"]>600\n",
    "print(\"All Inclusive more than 600 = \",df2[index])\n"
   ]
  },
  {
   "cell_type": "code",
   "execution_count": 58,
   "metadata": {},
   "outputs": [
    {
     "name": "stdout",
     "output_type": "stream",
     "text": [
      "score more than 8 =     Destination  Score Average Hotel Star  All Inclusive Most Visited\n",
      "3      France       9             5 Star            330        Paris\n",
      "5       Italy      10             4 Star            950       Venice\n",
      "8      Morocco     10             4 Star           1250    Marrakesh\n",
      "13        UAE       9             5 Star           1400        Dubai\n"
     ]
    }
   ],
   "source": [
    "#ref to 7\n",
    "index=df2[\"Score\"]>8\n",
    "print(\"score more than 8 = \",df2[index])"
   ]
  },
  {
   "cell_type": "code",
   "execution_count": 59,
   "metadata": {},
   "outputs": [
    {
     "name": "stdout",
     "output_type": "stream",
     "text": [
      "score less than 2 =  Empty DataFrame\n",
      "Columns: [Destination, Score, Average Hotel Star, All Inclusive, Most Visited]\n",
      "Index: []\n"
     ]
    }
   ],
   "source": [
    "#ref to 8\n",
    "index=df2[\"Score\"]<2\n",
    "print(\"score less than 2 = \",df2[index])"
   ]
  },
  {
   "cell_type": "code",
   "execution_count": 60,
   "metadata": {},
   "outputs": [
    {
     "data": {
      "text/html": [
       "<div>\n",
       "<style scoped>\n",
       "    .dataframe tbody tr th:only-of-type {\n",
       "        vertical-align: middle;\n",
       "    }\n",
       "\n",
       "    .dataframe tbody tr th {\n",
       "        vertical-align: top;\n",
       "    }\n",
       "\n",
       "    .dataframe thead th {\n",
       "        text-align: right;\n",
       "    }\n",
       "</style>\n",
       "<table border=\"1\" class=\"dataframe\">\n",
       "  <thead>\n",
       "    <tr style=\"text-align: right;\">\n",
       "      <th></th>\n",
       "      <th>Score</th>\n",
       "      <th>All Inclusive</th>\n",
       "    </tr>\n",
       "  </thead>\n",
       "  <tbody>\n",
       "    <tr>\n",
       "      <th>Score</th>\n",
       "      <td>1.0000</td>\n",
       "      <td>0.4237</td>\n",
       "    </tr>\n",
       "    <tr>\n",
       "      <th>All Inclusive</th>\n",
       "      <td>0.4237</td>\n",
       "      <td>1.0000</td>\n",
       "    </tr>\n",
       "  </tbody>\n",
       "</table>\n",
       "</div>"
      ],
      "text/plain": [
       "                Score  All Inclusive\n",
       "Score          1.0000         0.4237\n",
       "All Inclusive  0.4237         1.0000"
      ]
     },
     "execution_count": 60,
     "metadata": {},
     "output_type": "execute_result"
    }
   ],
   "source": [
    "#ref to 9\n",
    "df2[[\"Score\", \"All Inclusive\"]].corr()\n"
   ]
  },
  {
   "cell_type": "code",
   "execution_count": 61,
   "metadata": {},
   "outputs": [],
   "source": [
    "import matplotlib.pylab as plt"
   ]
  },
  {
   "cell_type": "code",
   "execution_count": 62,
   "metadata": {},
   "outputs": [
    {
     "data": {
      "image/png": "[encoded data removed]",
      "text/plain": [
       "<Figure size 432x288 with 1 Axes>"
      ]
     },
     "metadata": {},
     "output_type": "display_data"
    }
   ],
   "source": [
    "labels = df2['Destination'].values\n",
    "x = df2['Score'].values\n",
    "\n",
    "fig, ax = plt.subplots()\n",
    "ax.yaxis.label.set_color('white')\n",
    "ax.pie(x, labels=labels)\n",
    "\n",
    "ax.set_title('Destination')\n",
    "plt.tight_layout()\n",
    "\n",
    "\n"
   ]
  }
 ],
 "metadata": {
  "interpreter": {
   "hash": "c78e67e6c0cfa6d76d3914a5e722d74d2bf4f6e4c90e99b6166faca80c6b32f8"
  },
  "kernelspec": {
   "display_name": "Python 3.10.2 64-bit",
   "language": "python",
   "name": "python3"
  },
  "language_info": {
   "codemirror_mode": {
    "name": "ipython",
    "version": 3
   },
   "file_extension": ".py",
   "mimetype": "text/x-python",
   "name": "python",
   "nbconvert_exporter": "python",
   "pygments_lexer": "ipython3",
   "version": "3.10.2"
  },
  "orig_nbformat": 4
 },
 "nbformat": 4,
 "nbformat_minor": 2
}
