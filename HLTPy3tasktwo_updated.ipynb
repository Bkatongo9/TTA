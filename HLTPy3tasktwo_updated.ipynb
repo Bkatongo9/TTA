{
  "cells": [
    {
      "cell_type": "code",
      "execution_count": 1,
      "metadata": {
        "id": "zPAsBbu_9f4n"
      },
      "outputs": [],
      "source": [
        "def mark_grade():\n",
        "    mark_input = int(input(\"Hello Student, please enter your grade as a percentage. Please do NOT include the % symbol: \"))\n",
        "    if mark_input <100 and mark_input >=90:\n",
        "        grade = \"A*\"\n",
        "    elif mark_input <90 and mark_input >=80:\n",
        "        grade = \"A\"\n",
        "        \n",
        "    elif mark_input <80 and mark_input >=70:\n",
        "        grade = \"B\"\n",
        "    elif mark_input <70 and mark_input >=60:\n",
        "        grade = \"C\"\n",
        "    elif mark_input <60 and mark_input >=50:\n",
        "        grade = \"D\"\n",
        "    elif mark_input <50 and mark_input >=0:\n",
        "        grade = \"U\"\n",
        "    else:\n",
        "        grade = \"Error\"\n",
        "        print(\"You have not entered a correct value.\")\n",
        "\n",
        "    print(\"You have achieved:\", grade) \n",
        "        \n",
        "    return mark_input\n",
        "    mark_grade()"
      ]
    },
    {
      "cell_type": "code",
      "execution_count": null,
      "metadata": {
        "id": "NChIGyAx9f4v"
      },
      "outputs": [],
      "source": []
    },
    {
      "cell_type": "code",
      "execution_count": 2,
      "metadata": {
        "colab": {
          "base_uri": "https://localhost:8080/"
        },
        "id": "hnMFqisG9f4w",
        "outputId": "24e61ce1-d2e6-4489-d55f-ef1a321a31f9"
      },
      "outputs": [
        {
          "name": "stdout",
          "output_type": "stream",
          "text": [
            "You need to keep studying. You have not hit your target.\n"
          ]
        }
      ],
      "source": [
        "mark =5\n",
        "\n",
        "target = int(input(\"Please enter your target grade as percentage. Please do NOT include the % symbol: \"))\n",
        "\n",
        "if mark > target:\n",
        "    print(\"Well done! You have exceeded your target.\")\n",
        "elif mark == target:\n",
        "    print(\"You hit your target! Keep studying to do even better!\")\n",
        "else:\n",
        "    print(\"You need to keep studying. You have not hit your target.\")"
      ]
    },
    {
      "cell_type": "code",
      "execution_count": 3,
      "metadata": {
        "colab": {
          "base_uri": "https://localhost:8080/"
        },
        "id": "hZFzJ_yv9f4x",
        "outputId": "cd19f80d-78eb-4a65-a5a7-4f6b03f64152"
      },
      "outputs": [
        {
          "name": "stdout",
          "output_type": "stream",
          "text": [
            "You have achieved: C\n"
          ]
        },
        {
          "data": {
            "text/plain": [
              "68"
            ]
          },
          "execution_count": 3,
          "metadata": {},
          "output_type": "execute_result"
        }
      ],
      "source": [
        "def mark_grade():\n",
        "  mark_input = int(input(\"Hello Student, please enter your grade as a percentage. Please do NOT include the % symbol: \"))\n",
        "  if mark_input <= 100 and mark_input >= 80:\n",
        "      grade = \"A\"\n",
        "  elif mark_input < 80 and mark_input >= 70:  \n",
        "      grade = \"B\"  \n",
        "  elif mark_input  < 70 and mark_input >=60:\n",
        "      grade  = \"C\" \n",
        "  elif mark_input  < 60 and mark_input >=50:\n",
        "      grade  = \"D\"\n",
        "  elif mark_input < 50 and mark_input >=0:\n",
        "      grade = \"U\"\n",
        "  elif mark_input < 50 and mark_input>=20:\n",
        "      grade = \"x\"\n",
        "  elif mark_input < 0:\n",
        "      grade = \"no grade\"\n",
        "      print (\"no negative percent\")\n",
        "  else:\n",
        "        grade = \"Error\"\n",
        "        print(\"You have not entered a correct value\")\n",
        "\n",
        "       \n",
        "  print(\"You have achieved:\", grade) \n",
        "        \n",
        "  return mark_input\n",
        "\n",
        "mark_grade()\n"
      ]
    }
  ],
  "metadata": {
    "colab": {
      "name": "HLTPy3tasktwo_updated.ipynb",
      "provenance": []
    },
    "kernelspec": {
      "display_name": "Python 3",
      "language": "python",
      "name": "python3"
    },
    "language_info": {
      "codemirror_mode": {
        "name": "ipython",
        "version": 3
      },
      "file_extension": ".py",
      "mimetype": "text/x-python",
      "name": "python",
      "nbconvert_exporter": "python",
      "pygments_lexer": "ipython3",
      "version": "3.10.2"
    }
  },
  "nbformat": 4,
  "nbformat_minor": 0
}
