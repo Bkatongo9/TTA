{
 "cells": [
  {
   "cell_type": "code",
   "execution_count": 7,
   "metadata": {},
   "outputs": [
    {
     "name": "stdout",
     "output_type": "stream",
     "text": [
      "The bike depreciates by:\n",
      "Year 0 : 2000.0\n",
      "Year 1 : 1800.0\n",
      "Year 2 : 1620.0\n",
      "Year 3 : 1458.0\n",
      "Year 4 : 1312.2\n",
      "Year 5 : 1180.98\n",
      "Year 6 : 1062.882\n"
     ]
    }
   ],
   "source": [
    "# motorbike task\n",
    "\n",
    "cost = 2000.00\n",
    "\n",
    "year = 0 \n",
    "\n",
    "print(\"The bike depreciates by:\")\n",
    "\n",
    "while cost >= 1000:\n",
    "\n",
    "    print(\"Year\", year, \":\", cost)\n",
    "    year = year + 1\n",
    "    cost = cost - (cost/10)\n",
    "\n",
    "def bike():\n",
    "    yearly = \"curent value\"\n",
    "    loses = \"10% of original\"\n",
    "    yearly = str(\"curent value)\" + yearly + \"will increase by\" + loses + \"every year until less than £1000\")\n",
    "\n",
    "    return yearly"
   ]
  },
  {
   "cell_type": "code",
   "execution_count": 7,
   "metadata": {},
   "outputs": [],
   "source": [
    "def cal():\n",
    "\n",
    "    num1 = int(input(\"Enter number 1\"))\n",
    "\n",
    "    num2 = int(input(\"Enter number 2\"))\n",
    "\n",
    "    operator = input(\"Enter / * - + to do calculation\")\n",
    "\n",
    "    if operator == \"/\":\n",
    "        print(\"Your answer is\", num1 / num2)\n",
    "    elif operator == \"*\":\n",
    "        print(\"Your answer is\", num1 * num2)\n",
    "    elif operator == \"-\":\n",
    "        print(\"Your answer is\", num1 - num2)\n",
    "    elif operator == \"+\":\n",
    "        print(\"Your answer is\", num1 + num2)\n",
    "    else:\n",
    "        print(\"Wrong operator selected\")"
   ]
  },
  {
   "cell_type": "code",
   "execution_count": 8,
   "metadata": {},
   "outputs": [
    {
     "name": "stdout",
     "output_type": "stream",
     "text": [
      "Your answer is -820\n"
     ]
    }
   ],
   "source": [
    "cal()"
   ]
  }
 ],
 "metadata": {
  "interpreter": {
   "hash": "d9412a5883766b30f7f67b4b129868877efd05007fe101c58af6107b2de66a5c"
  },
  "kernelspec": {
   "display_name": "Python 3.9.10 64-bit",
   "language": "python",
   "name": "python3"
  },
  "language_info": {
   "codemirror_mode": {
    "name": "ipython",
    "version": 3
   },
   "file_extension": ".py",
   "mimetype": "text/x-python",
   "name": "python",
   "nbconvert_exporter": "python",
   "pygments_lexer": "ipython3",
   "version": "3.9.10"
  },
  "orig_nbformat": 4
 },
 "nbformat": 4,
 "nbformat_minor": 2
}
