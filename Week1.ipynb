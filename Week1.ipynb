{
 "cells": [
  {
   "cell_type": "code",
   "execution_count": 2,
   "metadata": {},
   "outputs": [
    {
     "name": "stdout",
     "output_type": "stream",
     "text": [
      "You guessed incorrectly my number was 4\n"
     ]
    }
   ],
   "source": [
    "# random game\n",
    "\n",
    "import random # imports the random code library \n",
    "\n",
    "name = input(\"Welcome to the guessing game! What is your name?\") #asks the user for their name \n",
    "\n",
    "computerGuess = random.randint (1,10) # varibale taht stores a guess that the computer generates \n",
    "\n",
    "userGuess = int(input(\"Can you guess my number?\")) # we are asking the user to enter an integer guess number \n",
    "\n",
    "if userGuess == computerGuess:\n",
    "    print(\"Well done you guessed my number\", computerGuess)\n",
    "else:\n",
    "    print(\"You guessed incorrectly my number was\", computerGuess)"
   ]
  },
  {
   "cell_type": "code",
   "execution_count": 6,
   "metadata": {},
   "outputs": [
    {
     "name": "stdout",
     "output_type": "stream",
     "text": [
      "You do not pick a number between 1 and 100\n"
     ]
    }
   ],
   "source": [
    "# ask user for number 1 to 100 and tell jokes\n",
    "\n",
    "number = int(input(\"What is your favourite number between 1 and 100?\"))\n",
    "\n",
    "if number >=1 and number <= 35:\n",
    "    print(\"Joke1\")\n",
    "elif number >=36 and number <=70:\n",
    "    print(\"Joke2\")\n",
    "elif number >=71 and number <=100:\n",
    "    print(\"Joke3\")\n",
    "else:\n",
    "    print(\"You do not pick a number between 1 and 100\")"
   ]
  },
  {
   "cell_type": "code",
   "execution_count": 7,
   "metadata": {},
   "outputs": [
    {
     "name": "stdout",
     "output_type": "stream",
     "text": [
      "Your order is a startert of Prawns for mains Fish for dessert you would ike Cake and to drink you want Coke\n"
     ]
    }
   ],
   "source": [
    "# ask the user for their favourite satrter, main, dessert and drink\n",
    "\n",
    "starter = input(\"What starter would you like?\")\n",
    "\n",
    "main = input(\"What main would you like?\")\n",
    "\n",
    "dessert = input(\"What dessert would you like?\")\n",
    "\n",
    "drink = input(\"What drink would you like?\")\n",
    "\n",
    "print(\"Your order is a starter of\", starter, \"for mains\", main, \"for dessert you would ike\", dessert, \"and to drink you want\", drink)"
   ]
  },
  {
   "cell_type": "code",
   "execution_count": 10,
   "metadata": {},
   "outputs": [
    {
     "name": "stdout",
     "output_type": "stream",
     "text": [
      "The bike depreciates by:\n",
      "Year 0 : 2000.0\n",
      "Year 1 : 1800.0\n",
      "Year 2 : 1620.0\n",
      "Year 3 : 1458.0\n",
      "Year 4 : 1312.2\n",
      "Year 5 : 1180.98\n",
      "Year 6 : 1062.882\n"
     ]
    }
   ],
   "source": [
    "# motorbike task\n",
    "\n",
    "cost = 2000.00\n",
    "\n",
    "year = 0 \n",
    "\n",
    "print(\"The bike depreciates by:\")\n",
    "\n",
    "while cost >= 1000:\n",
    "\n",
    "    print(\"Year\", year, \":\", cost)\n",
    "    year = year + 1\n",
    "    cost = cost - (cost/10)\n",
    "\n",
    "\n"
   ]
  },
  {
   "cell_type": "code",
   "execution_count": 14,
   "metadata": {},
   "outputs": [
    {
     "name": "stdout",
     "output_type": "stream",
     "text": [
      "Wrong operator selected\n"
     ]
    }
   ],
   "source": [
    "# ask for 2 numbers and a operator and do the calculation \n",
    "\n",
    "num1 = int(input(\"Eneter number 1\"))\n",
    "\n",
    "num2 = int(input(\"Eneter number 2\"))\n",
    "\n",
    "operator = input(\"Enter / * - + to do calculation\")\n",
    "\n",
    "if operator == \"/\":\n",
    "    print(\"Your answer is\", num1 / num2)\n",
    "elif operator == \"*\":\n",
    "    print(\"Your answer is\", num1 * num2)\n",
    "elif operator == \"-\":\n",
    "    print(\"Your answer is\", num1 - num2)\n",
    "elif operator == \"+\":\n",
    "    print(\"Your answer is\", num1 + num2)\n",
    "else:\n",
    "    print(\"Wrong operator selected\")"
   ]
  }
 ],
 "metadata": {
  "interpreter": {
   "hash": "d9412a5883766b30f7f67b4b129868877efd05007fe101c58af6107b2de66a5c"
  },
  "kernelspec": {
   "display_name": "Python 3.9.10 64-bit",
   "language": "python",
   "name": "python3"
  },
  "language_info": {
   "codemirror_mode": {
    "name": "ipython",
    "version": 3
   },
   "file_extension": ".py",
   "mimetype": "text/x-python",
   "name": "python",
   "nbconvert_exporter": "python",
   "pygments_lexer": "ipython3",
   "version": "3.9.10"
  },
  "orig_nbformat": 4
 },
 "nbformat": 4,
 "nbformat_minor": 2
}
